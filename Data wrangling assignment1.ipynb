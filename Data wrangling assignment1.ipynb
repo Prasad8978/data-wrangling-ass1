{
 "cells": [
  {
   "cell_type": "markdown",
   "id": "fe7d7e9e",
   "metadata": {},
   "source": [
    "## 1) Create a null vector of size 10 but the fifth value which is 1.\n"
   ]
  },
  {
   "cell_type": "code",
   "execution_count": 52,
   "id": "3162963a",
   "metadata": {},
   "outputs": [
    {
     "name": "stdout",
     "output_type": "stream",
     "text": [
      "[0 0 0 0 1 0 0 0 0 0]\n"
     ]
    }
   ],
   "source": [
    "import numpy as np\n",
    "a = np.zeros(10,int)\n",
    "a[4] = 1\n",
    "print(a)"
   ]
  },
  {
   "cell_type": "code",
   "execution_count": 56,
   "id": "684a5f2f",
   "metadata": {},
   "outputs": [
    {
     "name": "stdout",
     "output_type": "stream",
     "text": [
      "[0 0 0 0 1 0 0 0 0 0]\n"
     ]
    }
   ],
   "source": [
    "ar = (np.arange(10)==4).astype(int)\n",
    "print(ar)"
   ]
  },
  {
   "cell_type": "code",
   "execution_count": 59,
   "id": "6ab8f9cd",
   "metadata": {},
   "outputs": [
    {
     "name": "stdout",
     "output_type": "stream",
     "text": [
      "[0 0 0 0 1 0 0 0 0 0]\n"
     ]
    }
   ],
   "source": [
    "arr = np.array([int(x==4) for x in range(10)])\n",
    "print(arr)"
   ]
  },
  {
   "cell_type": "markdown",
   "id": "5a1f457f",
   "metadata": {},
   "source": [
    "## 2) Create a vector with values ranging from 10 to 49.\n"
   ]
  },
  {
   "cell_type": "code",
   "execution_count": 62,
   "id": "1bb16b05",
   "metadata": {},
   "outputs": [
    {
     "name": "stdout",
     "output_type": "stream",
     "text": [
      "[10 11 12 13 14 15 16 17 18 19 20 21 22 23 24 25 26 27 28 29 30 31 32 33\n",
      " 34 35 36 37 38 39 40 41 42 43 44 45 46 47 48 49]\n"
     ]
    }
   ],
   "source": [
    "import numpy as np\n",
    "b = np.arange(10,50)\n",
    "print(b)"
   ]
  },
  {
   "cell_type": "code",
   "execution_count": 63,
   "id": "bdb34b5e",
   "metadata": {},
   "outputs": [
    {
     "name": "stdout",
     "output_type": "stream",
     "text": [
      "[[10 11 12 13 14 15 16 17 18 19]\n",
      " [20 21 22 23 24 25 26 27 28 29]\n",
      " [30 31 32 33 34 35 36 37 38 39]\n",
      " [40 41 42 43 44 45 46 47 48 49]]\n"
     ]
    }
   ],
   "source": [
    "import numpy as np\n",
    "b = np.arange(10,50).reshape(4,10)\n",
    "print(b)"
   ]
  },
  {
   "cell_type": "code",
   "execution_count": 64,
   "id": "c16db602",
   "metadata": {},
   "outputs": [
    {
     "name": "stdout",
     "output_type": "stream",
     "text": [
      "[[10 11 12 13 14]\n",
      " [15 16 17 18 19]\n",
      " [20 21 22 23 24]\n",
      " [25 26 27 28 29]\n",
      " [30 31 32 33 34]\n",
      " [35 36 37 38 39]\n",
      " [40 41 42 43 44]\n",
      " [45 46 47 48 49]]\n"
     ]
    }
   ],
   "source": [
    "import numpy as np\n",
    "b = np.arange(10,50).reshape(8,5)\n",
    "print(b)"
   ]
  },
  {
   "cell_type": "markdown",
   "id": "66c0a942",
   "metadata": {},
   "source": [
    "## 3) Create a 3x3 matrix with values ranging from 0 to 8\n"
   ]
  },
  {
   "cell_type": "code",
   "execution_count": 65,
   "id": "8c274f04",
   "metadata": {},
   "outputs": [
    {
     "name": "stdout",
     "output_type": "stream",
     "text": [
      "[[3 1 8]\n",
      " [8 0 2]\n",
      " [6 5 8]]\n"
     ]
    }
   ],
   "source": [
    "import numpy as np\n",
    "c = np.random.randint(9,size=(3,3))\n",
    "print(c)"
   ]
  },
  {
   "cell_type": "code",
   "execution_count": 70,
   "id": "573a1d85",
   "metadata": {},
   "outputs": [
    {
     "name": "stdout",
     "output_type": "stream",
     "text": [
      "[[0 1 2]\n",
      " [3 4 5]\n",
      " [6 7 8]]\n"
     ]
    }
   ],
   "source": [
    "import numpy as np\n",
    "c1 = np.arange(9).reshape(3,3)\n",
    "print(c1)"
   ]
  },
  {
   "cell_type": "markdown",
   "id": "910f1271",
   "metadata": {},
   "source": [
    "## 4) Find indices of non-zero elements from [1,2,0,0,4,0]\n"
   ]
  },
  {
   "cell_type": "code",
   "execution_count": 74,
   "id": "b5911349",
   "metadata": {},
   "outputs": [
    {
     "name": "stdout",
     "output_type": "stream",
     "text": [
      "The non zero numbers are :\n",
      " [1 2 4]\n",
      "The indices of non zero numbers are :\n",
      " (array([0, 1, 4], dtype=int64),)\n"
     ]
    }
   ],
   "source": [
    "import numpy as np\n",
    "arra = np.array([1,2,0,0,4,0])\n",
    "k = np.nonzero(arra)\n",
    "print('The non zero numbers are :\\n',arra[k])\n",
    "print('The indices of non zero numbers are :\\n',k) "
   ]
  },
  {
   "cell_type": "markdown",
   "id": "8a15ebdb",
   "metadata": {},
   "source": [
    "## 5) Create a 10x10 array with random values and find the minimum and maximum values.\n"
   ]
  },
  {
   "cell_type": "code",
   "execution_count": 81,
   "id": "2479ab0a",
   "metadata": {},
   "outputs": [
    {
     "name": "stdout",
     "output_type": "stream",
     "text": [
      "The original array: \n",
      " [[0.1220981  0.1557276  0.76999998 0.91926719 0.57183091 0.59851424\n",
      "  0.23473453 0.15204248 0.01574051 0.67810408]\n",
      " [0.09784371 0.38738609 0.97366611 0.85472575 0.39392458 0.6431764\n",
      "  0.89928991 0.70048564 0.19864564 0.47404553]\n",
      " [0.72339275 0.17265351 0.12435019 0.06407715 0.07888658 0.15283391\n",
      "  0.25412393 0.74401137 0.75997966 0.90471822]\n",
      " [0.52371515 0.35827774 0.15727416 0.09954344 0.10574038 0.42594402\n",
      "  0.67922009 0.83317624 0.06416378 0.16755283]\n",
      " [0.2249202  0.96382555 0.05094561 0.67587922 0.31430957 0.81759486\n",
      "  0.35697296 0.63361277 0.8466747  0.67061317]\n",
      " [0.78404018 0.86304565 0.81913392 0.95291544 0.92164638 0.92253786\n",
      "  0.41821435 0.6983283  0.94684565 0.32427044]\n",
      " [0.41387221 0.24967323 0.0612897  0.16935283 0.53189306 0.20117081\n",
      "  0.46045789 0.93480234 0.18307546 0.79664039]\n",
      " [0.4047324  0.30274493 0.30404723 0.21089077 0.23098304 0.97200058\n",
      "  0.60832069 0.56479886 0.54098152 0.95553144]\n",
      " [0.14974367 0.12875949 0.04780581 0.56646258 0.87638701 0.17605179\n",
      "  0.60732482 0.54429811 0.10538015 0.65618574]\n",
      " [0.65088205 0.76527676 0.18566074 0.54937903 0.13856597 0.21044197\n",
      "  0.55816518 0.49470299 0.62056713 0.05998854]]\n",
      "The min value of array is :\n",
      " 0.015740505197773147 \n",
      "The max value of array is :\n",
      " 0.9736661057228119\n"
     ]
    }
   ],
   "source": [
    "import numpy as np\n",
    "arr = np.random.random((10,10))\n",
    "print('The original array: \\n',arr)\n",
    "print('The min value of array is :\\n',arr.min(),'\\nThe max value of array is :\\n',arr.max())"
   ]
  },
  {
   "cell_type": "markdown",
   "id": "6fa1138e",
   "metadata": {},
   "source": [
    "## 6) Create a random vector of size 30 and find the mean value.\n"
   ]
  },
  {
   "cell_type": "code",
   "execution_count": 92,
   "id": "080f50bb",
   "metadata": {},
   "outputs": [
    {
     "name": "stdout",
     "output_type": "stream",
     "text": [
      "[[0.1112765  0.53543897 0.30405625 0.38127224 0.94197304 0.67779572\n",
      "  0.54428581 0.66059209 0.62292102 0.9465843 ]\n",
      " [0.14280426 0.04588744 0.08445823 0.125955   0.58536929 0.77237262\n",
      "  0.46029881 0.15454174 0.7806098  0.67581831]\n",
      " [0.04266349 0.53126556 0.67921223 0.11649533 0.11500168 0.24572202\n",
      "  0.57936028 0.91255766 0.46613087 0.31543816]]\n",
      "0.45193862284700803\n"
     ]
    }
   ],
   "source": [
    "import numpy as np\n",
    "c = np.random.random(30).reshape(3,10)\n",
    "print(c)\n",
    "print(np.mean(c))"
   ]
  },
  {
   "cell_type": "code",
   "execution_count": 89,
   "id": "8724e5fc",
   "metadata": {},
   "outputs": [
    {
     "name": "stdout",
     "output_type": "stream",
     "text": [
      "[[0.43933406 0.0089172  0.10846337 0.94638219 0.33902309]\n",
      " [0.40801809 0.52041166 0.55621208 0.57229394 0.13712265]\n",
      " [0.02580001 0.9663615  0.18255457 0.29478854 0.80078947]\n",
      " [0.38994187 0.89456385 0.57575124 0.38297933 0.45684748]\n",
      " [0.73807993 0.02813321 0.69175549 0.07739217 0.35481388]\n",
      " [0.91795025 0.94994705 0.9792779  0.80393015 0.39751468]]\n",
      "0.498178363474635\n"
     ]
    }
   ],
   "source": [
    "import numpy as np\n",
    "arr2 = np.random.random((6,5))\n",
    "print(arr2)\n",
    "print(np.mean(arr2))"
   ]
  },
  {
   "cell_type": "code",
   "execution_count": 87,
   "id": "a4366a51",
   "metadata": {},
   "outputs": [
    {
     "name": "stdout",
     "output_type": "stream",
     "text": [
      "[[0.14173298 0.12214235 0.05122989 0.08891262 0.97372283]\n",
      " [0.83389491 0.77974816 0.24639416 0.78815326 0.51678613]\n",
      " [0.69286216 0.91359297 0.77133425 0.85007742 0.67557244]\n",
      " [0.71391901 0.92402186 0.2453455  0.30740265 0.19672258]\n",
      " [0.93309233 0.1644399  0.20950009 0.05758691 0.87826449]\n",
      " [0.19854322 0.99859642 0.39980075 0.77434576 0.69224517]]\n",
      "0.5379994387347156\n"
     ]
    }
   ],
   "source": [
    "import numpy as np\n",
    "arr2 = np.random.random((6,5))\n",
    "print(arr2)\n",
    "print(arr2.mean())"
   ]
  },
  {
   "cell_type": "code",
   "execution_count": null,
   "id": "aa606d10",
   "metadata": {},
   "outputs": [],
   "source": []
  },
  {
   "cell_type": "code",
   "execution_count": null,
   "id": "e96bec0a",
   "metadata": {},
   "outputs": [],
   "source": []
  }
 ],
 "metadata": {
  "kernelspec": {
   "display_name": "Python 3 (ipykernel)",
   "language": "python",
   "name": "python3"
  },
  "language_info": {
   "codemirror_mode": {
    "name": "ipython",
    "version": 3
   },
   "file_extension": ".py",
   "mimetype": "text/x-python",
   "name": "python",
   "nbconvert_exporter": "python",
   "pygments_lexer": "ipython3",
   "version": "3.10.0"
  }
 },
 "nbformat": 4,
 "nbformat_minor": 5
}
